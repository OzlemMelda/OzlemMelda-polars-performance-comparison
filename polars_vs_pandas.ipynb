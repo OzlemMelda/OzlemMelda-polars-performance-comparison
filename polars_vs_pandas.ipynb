{
 "cells": [
  {
   "cell_type": "code",
   "execution_count": 1,
   "id": "173b24f9-4526-4f44-9a83-4b538b6cafb1",
   "metadata": {},
   "outputs": [],
   "source": [
    "import timeit\n",
    "import pandas as pd\n",
    "import polars as pl"
   ]
  },
  {
   "cell_type": "markdown",
   "id": "1be5ee9d-3dec-4b08-8fea-acf582d8f3cc",
   "metadata": {},
   "source": [
    "### Load data"
   ]
  },
  {
   "cell_type": "code",
   "execution_count": 2,
   "id": "606994da-a048-410d-b7f8-388f785a878a",
   "metadata": {},
   "outputs": [
    {
     "name": "stdout",
     "output_type": "stream",
     "text": [
      "Time:  56.8925461\n"
     ]
    }
   ],
   "source": [
    "# pandas\n",
    "start = timeit.default_timer()\n",
    "pd_df = pd.read_csv(\"./data_28.csv\")\n",
    "stop = timeit.default_timer()\n",
    "print('Time: ', stop - start)  "
   ]
  },
  {
   "cell_type": "code",
   "execution_count": 2,
   "id": "f6a23d72-522f-464c-a9b1-e0a8cb66880c",
   "metadata": {},
   "outputs": [
    {
     "name": "stdout",
     "output_type": "stream",
     "text": [
      "Time:  12.313136199999999\n"
     ]
    }
   ],
   "source": [
    "# polars\n",
    "start = timeit.default_timer()\n",
    "pl_df = pl.scan_csv(\"./data_28.csv\")\n",
    "pl_df = pl_df.collect()\n",
    "stop = timeit.default_timer()\n",
    "print('Time: ', stop - start)  "
   ]
  },
  {
   "cell_type": "markdown",
   "id": "c875b152-52dc-416a-96e2-16eaaedbdd82",
   "metadata": {},
   "source": [
    "### Filter groupby agg"
   ]
  },
  {
   "cell_type": "code",
   "execution_count": 3,
   "id": "3dc17d2f-a217-4c4f-81f4-85e3dd07488e",
   "metadata": {},
   "outputs": [
    {
     "name": "stdout",
     "output_type": "stream",
     "text": [
      "group_id\n",
      "0     1.433424e+08\n",
      "1     2.584172e+07\n",
      "2     7.516780e+05\n",
      "3     4.403254e+07\n",
      "4     7.253725e+06\n",
      "5     6.477589e+06\n",
      "6     4.058315e+07\n",
      "7     1.489211e+08\n",
      "8     1.879766e+07\n",
      "9     5.338499e+07\n",
      "10    3.436026e+06\n",
      "11    4.322650e+07\n",
      "12    2.555600e+05\n",
      "13    3.740526e+06\n",
      "14    5.847329e+06\n",
      "Name: demand, dtype: float64\n",
      "Time:  22.266677900000005\n"
     ]
    }
   ],
   "source": [
    "# pandas\n",
    "start = timeit.default_timer()\n",
    "\n",
    "pd_df_agg = pd_df[pd_df[\"demand\"] > 0]\\\n",
    ".groupby(\"group_id\")['demand']\\\n",
    ".sum()\n",
    "\n",
    "print(pd_df_agg)\n",
    "\n",
    "stop = timeit.default_timer()\n",
    "print('Time: ', stop - start)  "
   ]
  },
  {
   "cell_type": "code",
   "execution_count": 3,
   "id": "bb868e77-4c36-473e-9122-f66383a153db",
   "metadata": {},
   "outputs": [
    {
     "name": "stdout",
     "output_type": "stream",
     "text": [
      "shape: (15, 2)\n",
      "┌──────────┬──────────┐\n",
      "│ group_id ┆ demand   │\n",
      "│ ---      ┆ ---      │\n",
      "│ i64      ┆ f64      │\n",
      "╞══════════╪══════════╡\n",
      "│ 0        ┆ 1.4334e8 │\n",
      "│ 12       ┆ 255560.0 │\n",
      "│ 5        ┆ 6.4776e6 │\n",
      "│ 7        ┆ 1.4892e8 │\n",
      "│ …        ┆ …        │\n",
      "│ 4        ┆ 7.2537e6 │\n",
      "│ 13       ┆ 3.7405e6 │\n",
      "│ 3        ┆ 4.4033e7 │\n",
      "│ 9        ┆ 5.3385e7 │\n",
      "└──────────┴──────────┘\n",
      "Time:  0.9004170000000009\n"
     ]
    }
   ],
   "source": [
    "# polars\n",
    "start = timeit.default_timer()\n",
    "\n",
    "pl_df_agg = (\n",
    "    pl_df\n",
    "    .filter(pl.col(\"demand\") > 0)\n",
    "    .groupby(\"group_id\")\n",
    "    .agg(pl.col(\"demand\").sum())\n",
    ")\n",
    "\n",
    "print(pl_df_agg)\n",
    "\n",
    "stop = timeit.default_timer()\n",
    "print('Time: ', stop - start)  "
   ]
  },
  {
   "cell_type": "markdown",
   "id": "b3ce6e35-0657-404e-b4d5-6ff7e5343899",
   "metadata": {},
   "source": [
    "## Calculate rolling mean"
   ]
  },
  {
   "cell_type": "code",
   "execution_count": 4,
   "id": "4fa85ef4-df42-48ce-88b3-288e2c2152ef",
   "metadata": {},
   "outputs": [
    {
     "name": "stdout",
     "output_type": "stream",
     "text": [
      "          week  product_id  store_id  group_id    demand  s_group_id     tag  \\\n",
      "0          576           0       244         0  5.000000           1  before   \n",
      "1          577           0       244         0  5.000000           1  before   \n",
      "2          578           0       244         0  5.000000           1  before   \n",
      "3          579           0       244         0  5.000000           1  before   \n",
      "4          580           0       244         0  5.000000           1  before   \n",
      "...        ...         ...       ...       ...       ...         ...     ...   \n",
      "91554683  1039         764       395        14  5.357839           2   after   \n",
      "91554684  1040         764       395        14  5.187080           2   after   \n",
      "91554685  1041         764       395        14  7.220590           2   after   \n",
      "91554686  1042         764       395        14  6.403280           2   after   \n",
      "91554687  1043         764       395        14  5.376021           2   after   \n",
      "\n",
      "          rolling_mean  \n",
      "0             5.000000  \n",
      "1             5.000000  \n",
      "2             5.000000  \n",
      "3             5.000000  \n",
      "4             5.000000  \n",
      "...                ...  \n",
      "91554683      5.796619  \n",
      "91554684      5.612516  \n",
      "91554685      5.630382  \n",
      "91554686      5.762613  \n",
      "91554687      5.792264  \n",
      "\n",
      "[91554688 rows x 8 columns]\n",
      "Time:  108.781475\n"
     ]
    }
   ],
   "source": [
    "# pandas\n",
    "start = timeit.default_timer()\n",
    "\n",
    "\n",
    "pd_df[\"rolling_mean\"] = pd_df.groupby(['product_id', 'store_id'])['demand']\\\n",
    "                            .transform(lambda s: s.rolling(10, min_periods=1).mean())\n",
    "\n",
    "print(pd_df)\n",
    "\n",
    "stop = timeit.default_timer()\n",
    "print('Time: ', stop - start)  "
   ]
  },
  {
   "cell_type": "code",
   "execution_count": 4,
   "id": "6543f0fa-b204-44f5-80ae-d0e9459f0dac",
   "metadata": {},
   "outputs": [
    {
     "name": "stdout",
     "output_type": "stream",
     "text": [
      "shape: (91_554_688, 8)\n",
      "┌──────┬────────────┬──────────┬──────────┬──────────┬────────────┬────────┬──────────────┐\n",
      "│ week ┆ product_id ┆ store_id ┆ group_id ┆ demand   ┆ s_group_id ┆ tag    ┆ rolling_mean │\n",
      "│ ---  ┆ ---        ┆ ---      ┆ ---      ┆ ---      ┆ ---        ┆ ---    ┆ ---          │\n",
      "│ i64  ┆ i64        ┆ i64      ┆ i64      ┆ f64      ┆ i64        ┆ str    ┆ f64          │\n",
      "╞══════╪════════════╪══════════╪══════════╪══════════╪════════════╪════════╪══════════════╡\n",
      "│ 576  ┆ 0          ┆ 244      ┆ 0        ┆ 5.0      ┆ 1          ┆ before ┆ 5.0          │\n",
      "│ 577  ┆ 0          ┆ 244      ┆ 0        ┆ 5.0      ┆ 1          ┆ before ┆ 5.0          │\n",
      "│ 578  ┆ 0          ┆ 244      ┆ 0        ┆ 5.0      ┆ 1          ┆ before ┆ 5.0          │\n",
      "│ 579  ┆ 0          ┆ 244      ┆ 0        ┆ 5.0      ┆ 1          ┆ before ┆ 5.0          │\n",
      "│ …    ┆ …          ┆ …        ┆ …        ┆ …        ┆ …          ┆ …      ┆ …            │\n",
      "│ 1040 ┆ 764        ┆ 395      ┆ 14       ┆ 5.18708  ┆ 2          ┆ after  ┆ 5.612516     │\n",
      "│ 1041 ┆ 764        ┆ 395      ┆ 14       ┆ 7.22059  ┆ 2          ┆ after  ┆ 5.630382     │\n",
      "│ 1042 ┆ 764        ┆ 395      ┆ 14       ┆ 6.40328  ┆ 2          ┆ after  ┆ 5.762613     │\n",
      "│ 1043 ┆ 764        ┆ 395      ┆ 14       ┆ 5.376021 ┆ 2          ┆ after  ┆ 5.792264     │\n",
      "└──────┴────────────┴──────────┴──────────┴──────────┴────────────┴────────┴──────────────┘\n",
      "Time:  2.529922899999999\n"
     ]
    }
   ],
   "source": [
    "# polars\n",
    "start = timeit.default_timer()\n",
    "\n",
    "pl_df = (\n",
    "    pl_df.select(\n",
    "    [\n",
    "        \"week\",\n",
    "        \"product_id\",\n",
    "        \"store_id\",\n",
    "        \"group_id\",\n",
    "        \"demand\",\n",
    "        \"s_group_id\",\n",
    "        \"tag\",\n",
    "        pl.col(\"demand\")\\\n",
    "        .rolling_mean(10, min_periods=1)\\\n",
    "        .over('product_id', 'store_id')\\\n",
    "        .alias(\"rolling_mean\")\n",
    "    ]\n",
    "    )\n",
    ")\n",
    "\n",
    "print(pl_df)\n",
    "\n",
    "stop = timeit.default_timer()\n",
    "print('Time: ', stop - start) "
   ]
  },
  {
   "cell_type": "markdown",
   "id": "c99833e8-8820-4673-a773-bf31934d4f26",
   "metadata": {},
   "source": [
    "## Join"
   ]
  },
  {
   "cell_type": "code",
   "execution_count": 5,
   "id": "ecca43a0-3029-4b4a-92d3-be0e87380e29",
   "metadata": {},
   "outputs": [
    {
     "name": "stdout",
     "output_type": "stream",
     "text": [
      "          week  product_id  store_id  group_id  demand_x  s_group_id     tag  \\\n",
      "0          576           0       244         0  5.000000           1  before   \n",
      "1          577           0       244         0  5.000000           1  before   \n",
      "2          578           0       244         0  5.000000           1  before   \n",
      "3          579           0       244         0  5.000000           1  before   \n",
      "4          580           0       244         0  5.000000           1  before   \n",
      "...        ...         ...       ...       ...       ...         ...     ...   \n",
      "91554683  1039         764       395        14  5.357839           2   after   \n",
      "91554684  1040         764       395        14  5.187080           2   after   \n",
      "91554685  1041         764       395        14  7.220590           2   after   \n",
      "91554686  1042         764       395        14  6.403280           2   after   \n",
      "91554687  1043         764       395        14  5.376021           2   after   \n",
      "\n",
      "          rolling_mean      demand_y  \n",
      "0             5.000000  1.433424e+08  \n",
      "1             5.000000  1.433424e+08  \n",
      "2             5.000000  1.433424e+08  \n",
      "3             5.000000  1.433424e+08  \n",
      "4             5.000000  1.433424e+08  \n",
      "...                ...           ...  \n",
      "91554683      5.796619  5.847329e+06  \n",
      "91554684      5.612516  5.847329e+06  \n",
      "91554685      5.630382  5.847329e+06  \n",
      "91554686      5.762613  5.847329e+06  \n",
      "91554687      5.792264  5.847329e+06  \n",
      "\n",
      "[91554688 rows x 9 columns]\n",
      "Time:  89.93881339999999\n"
     ]
    }
   ],
   "source": [
    "# pandas\n",
    "start = timeit.default_timer()\n",
    "\n",
    "pd_df_agg = pd_df[pd_df[\"demand\"] > 0]\\\n",
    ".groupby(\"group_id\")['demand']\\\n",
    ".sum()\n",
    "\n",
    "pd_df = pd_df.merge(pd_df_agg,\n",
    "                   on=\"group_id\")\n",
    "\n",
    "print(pd_df)\n",
    "\n",
    "stop = timeit.default_timer()\n",
    "print('Time: ', stop - start)  "
   ]
  },
  {
   "cell_type": "code",
   "execution_count": 5,
   "id": "888623ae-dd8e-49ed-8444-2a2d34c73ce5",
   "metadata": {},
   "outputs": [
    {
     "name": "stdout",
     "output_type": "stream",
     "text": [
      "shape: (91_554_688, 9)\n",
      "┌──────┬────────────┬──────────┬──────────┬───┬────────────┬────────┬──────────────┬──────────────┐\n",
      "│ week ┆ product_id ┆ store_id ┆ group_id ┆ … ┆ s_group_id ┆ tag    ┆ rolling_mean ┆ demand_right │\n",
      "│ ---  ┆ ---        ┆ ---      ┆ ---      ┆   ┆ ---        ┆ ---    ┆ ---          ┆ ---          │\n",
      "│ i64  ┆ i64        ┆ i64      ┆ i64      ┆   ┆ i64        ┆ str    ┆ f64          ┆ f64          │\n",
      "╞══════╪════════════╪══════════╪══════════╪═══╪════════════╪════════╪══════════════╪══════════════╡\n",
      "│ 576  ┆ 0          ┆ 244      ┆ 0        ┆ … ┆ 1          ┆ before ┆ 5.0          ┆ 1.4334e8     │\n",
      "│ 577  ┆ 0          ┆ 244      ┆ 0        ┆ … ┆ 1          ┆ before ┆ 5.0          ┆ 1.4334e8     │\n",
      "│ 578  ┆ 0          ┆ 244      ┆ 0        ┆ … ┆ 1          ┆ before ┆ 5.0          ┆ 1.4334e8     │\n",
      "│ 579  ┆ 0          ┆ 244      ┆ 0        ┆ … ┆ 1          ┆ before ┆ 5.0          ┆ 1.4334e8     │\n",
      "│ …    ┆ …          ┆ …        ┆ …        ┆ … ┆ …          ┆ …      ┆ …            ┆ …            │\n",
      "│ 1040 ┆ 764        ┆ 395      ┆ 14       ┆ … ┆ 2          ┆ after  ┆ 5.612516     ┆ 5.8473e6     │\n",
      "│ 1041 ┆ 764        ┆ 395      ┆ 14       ┆ … ┆ 2          ┆ after  ┆ 5.630382     ┆ 5.8473e6     │\n",
      "│ 1042 ┆ 764        ┆ 395      ┆ 14       ┆ … ┆ 2          ┆ after  ┆ 5.762613     ┆ 5.8473e6     │\n",
      "│ 1043 ┆ 764        ┆ 395      ┆ 14       ┆ … ┆ 2          ┆ after  ┆ 5.792264     ┆ 5.8473e6     │\n",
      "└──────┴────────────┴──────────┴──────────┴───┴────────────┴────────┴──────────────┴──────────────┘\n",
      "Time:  17.375855400000006\n"
     ]
    }
   ],
   "source": [
    "# polars\n",
    "start = timeit.default_timer()\n",
    "\n",
    "pl_df_agg = (\n",
    "    pl_df\n",
    "    .filter(pl.col(\"demand\") > 0)\n",
    "    .groupby(\"group_id\")\n",
    "    .agg(pl.col(\"demand\").sum())\n",
    ")\n",
    "\n",
    "pl_df = pl_df.join(pl_df_agg, on=\"group_id\")\n",
    "\n",
    "print(pl_df)\n",
    "\n",
    "stop = timeit.default_timer()\n",
    "print('Time: ', stop - start)  "
   ]
  },
  {
   "cell_type": "code",
   "execution_count": null,
   "id": "22a8f740-31ce-4198-a032-f2677c081498",
   "metadata": {},
   "outputs": [],
   "source": []
  }
 ],
 "metadata": {
  "kernelspec": {
   "display_name": "base",
   "language": "python",
   "name": "base"
  },
  "language_info": {
   "codemirror_mode": {
    "name": "ipython",
    "version": 3
   },
   "file_extension": ".py",
   "mimetype": "text/x-python",
   "name": "python",
   "nbconvert_exporter": "python",
   "pygments_lexer": "ipython3",
   "version": "3.9.15"
  }
 },
 "nbformat": 4,
 "nbformat_minor": 5
}
